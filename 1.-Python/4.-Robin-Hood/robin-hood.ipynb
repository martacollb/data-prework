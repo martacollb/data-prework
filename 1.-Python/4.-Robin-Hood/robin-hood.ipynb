{
 "cells": [
  {
   "cell_type": "markdown",
   "metadata": {},
   "source": [
    "<img src=\"https://bit.ly/2VnXWr2\" width=\"100\" align=\"left\"/>"
   ]
  },
  {
   "cell_type": "markdown",
   "metadata": {},
   "source": [
    "# Robin Hood\n",
    "Robin Hood has entered a competition to win the archery contest in Sherwood. With his bow and arrows, he needs to shoot on a target and try to hit as close as possible to the center.\n",
    "\n",
    "![](images/arrows.jpg)\n",
    "\n",
    "## Context\n",
    "In this challenge, the landing position of arrows shot by archers in the competition will be represented using 2-dimensional coordinates. \n",
    "\n",
    "In the 2-dimensional space, a point can be defined by a pair of values that correspond to the horizontal coordinate (x) and the vertical coordinate (y). For example, in our case, an arrow that hits the center of the archery target will land in position (0, 0) on the coordinate axes. \n",
    "\n",
    "The space can be divided into 4 zones (quadrants): Q1, Q2, Q3, Q4. If a point is in Q1, both its x coordinate and y coordinate are positive. Any point with a null x or y coordinate is considered to not belong to any quadrant. \n",
    "\n",
    "If you want to know more about the cartesian coordinate system, you can check this [link](https://en.wikipedia.org/wiki/Cartesian_coordinate_system). \n",
    "\n",
    "## Tools\n",
    "You don't necessarily need to use all the tools. Maybe you opt to use some of them or completely different ones, they are given to help you shape the exercise. Programming exercises can be solved in many different ways.\n",
    "* Data structures: **lists, sets, tuples**\n",
    "* Conditional statements: **if-elif-else**\n",
    "* Loop: **while/for**\n",
    "* Minimum (optional sorting)\n",
    "\n",
    "## Tasks\n",
    "Robin Hood has hit the following points:"
   ]
  },
  {
   "cell_type": "code",
   "execution_count": 3,
   "metadata": {},
   "outputs": [],
   "source": [
    "points = [(4, 5), (-0, 2), (4, 7), (1, -3), (3, -2), (4, 5), (3, 2), (5, 7), (-5, 7), (2, 2), (-4, 5), (0, -2),\n",
    "          (-4, 7), (-1, 3), (-3, 2), (-4, -5), (-3, 2), (5, 7), (5, 7), (2, 2), (9, 9), (-8, -9)]"
   ]
  },
  {
   "cell_type": "markdown",
   "metadata": {},
   "source": [
    "#### 1. Robin Hood is famous for hitting an arrow with another arrow. Find the coordinates of the points where an arrow hits another arrow."
   ]
  },
  {
   "cell_type": "code",
   "execution_count": 15,
   "metadata": {},
   "outputs": [
    {
     "name": "stdout",
     "output_type": "stream",
     "text": [
      "{(-3, 2), (4, 5), (5, 7), (2, 2)}\n"
     ]
    }
   ],
   "source": [
    "# Copio la lista del enunciado\n",
    "points = [(4, 5), (-0, 2), (4, 7), (1, -3), (3, -2), (4, 5), (3, 2), (5, 7), (-5, 7), (2, 2), (-4, 5), (0, -2),\n",
    "          (-4, 7), (-1, 3), (-3, 2), (-4, -5), (-3, 2), (5, 7), (5, 7), (2, 2), (9, 9), (-8, -9)]\n",
    "\n",
    "#Voy a crear una nueva lista\n",
    "arrow_hits_arrow = []\n",
    "\n",
    "#Hago un for loop para coger los puntos que salen más de una vez i los pongo en la lista arrow_hits_arrow\n",
    "for i in points:\n",
    "    if points.count(i) > 1:\n",
    "        arrow_hits_arrow.append(i)\n",
    "        \n",
    "#Uso la formula \"set\" para que me de solo los únicos (que no repita 4,5 4,5 E.G.)\n",
    "print(set(arrow_hits_arrow))"
   ]
  },
  {
   "cell_type": "markdown",
   "metadata": {},
   "source": [
    "#### 2. Calculate how many arrows have fallen in each quadrant. \n",
    "**Note**: the arrows that fall in the axis (x=0 or y=0) don't belong to any quadrant."
   ]
  },
  {
   "cell_type": "code",
   "execution_count": 75,
   "metadata": {},
   "outputs": [
    {
     "name": "stdout",
     "output_type": "stream",
     "text": [
      "arrows fallen in Q1 = 10\n",
      "arrows fallen in Q2 = 6\n",
      "arrows fallen in Q3 = 2\n",
      "arrows fallen in Q4 = 2\n",
      "arrows fallen NO quadrant = 1\n"
     ]
    }
   ],
   "source": [
    "# Copio la lista del enunciado\n",
    "points = [(4, 5), (-0, 2), (4, 7), (1, -3), (3, -2), (4, 5), (3, 2), (5, 7), (-5, 7), (2, 2), (-4, 5), (0, -2),\n",
    "          (-4, 7), (-1, 3), (-3, 2), (-4, -5), (-3, 2), (5, 7), (5, 7), (2, 2), (9, 9), (-8, -9)]\n",
    "\n",
    "#Empezamos con 0 flechas en cada cuadrante\n",
    "Q1=0\n",
    "Q2=0\n",
    "Q3=0\n",
    "Q4=0\n",
    "Any_quadrant=0\n",
    "\n",
    "#Hago un for loop combinado con conditional statements\n",
    "for (x,y) in points:\n",
    "    if (x>0 and y>0):\n",
    "        Q1+=1\n",
    "    elif (x<0 and y>0):\n",
    "        Q2+=1\n",
    "    elif (x<0 and y<0):\n",
    "        Q3+=1\n",
    "    elif (x>0 and y<0):\n",
    "        Q4+=1\n",
    "\n",
    "else:\n",
    "    x==0 or y==0\n",
    "Any_quadrant+=1\n",
    "\n",
    "#Respuesta:\n",
    "print(\"Arrows fallen in Q1 =\",Q1)\n",
    "print(\"Arrows fallen in Q2 =\",Q2)\n",
    "print(\"Arrows fallen in Q3 =\",Q3)\n",
    "print(\"Arrows fallen in Q4 =\",Q4)\n",
    "print(\"Arrows fallen NO quadrant =\",Any_quadrant)"
   ]
  },
  {
   "cell_type": "markdown",
   "metadata": {},
   "source": [
    "#### 3. Find the point closest to the center. Calculate its distance to the center. \n",
    "Take into account that there might be more than one point at the minimum distance to the center.\n",
    "\n",
    "**Hint**: Use the Euclidean distance. You can find more information about it [here](https://en.wikipedia.org/wiki/Euclidean_distance).  \n",
    "**Hint**: Defining a function that calculates the distance to the center can help."
   ]
  },
  {
   "cell_type": "code",
   "execution_count": 55,
   "metadata": {},
   "outputs": [
    {
     "name": "stdout",
     "output_type": "stream",
     "text": [
      "The unique points of arrows are: [(-5, 7), (3, -2), (-4, 7), (-4, 5), (9, 9), (5, 7), (4, 5), (0, 2), (1, -3), (-1, 3), (-4, -5), (2, 2), (-3, 2), (3, 2), (-8, -9), (0, -2), (4, 7)]\n",
      "The distance to the center of each point is: [8.6, 3.6, 8.1, 6.4, 12.7, 8.6, 6.4, 2.0, 3.2, 3.2, 6.4, 2.8, 3.6, 3.6, 12.0, 2.0, 8.1]\n",
      "The minimum distance is: 2.0\n",
      "The point with the minimum distance is at position: 7\n",
      "ANSWER:The closest point to the center is: (0, 2)\n"
     ]
    }
   ],
   "source": [
    "import math \n",
    "\n",
    "points = [(4, 5), (-0, 2), (4, 7), (1, -3), (3, -2), (4, 5), (3, 2), (5, 7), (-5, 7), (2, 2), (-4, 5), (0, -2),\n",
    "          (-4, 7), (-1, 3), (-3, 2), (-4, -5), (-3, 2), (5, 7), (5, 7), (2, 2), (9, 9), (-8, -9)]\n",
    "\n",
    "#I first create a list with the unique values of the list Points:\n",
    "unique_points = list(set(points))\n",
    "\n",
    "print(\"The unique points of arrows are:\",unique_points)\n",
    "#I define the center as 0,0\n",
    "center = [(0,0)]\n",
    "\n",
    "#The Euclidean distance formula is:\n",
    "#distance = square root( (x2-x1)**2 + (y2-y1)**2 )\n",
    "#as the center = 0,0 --> \n",
    "#x2-x1=x2 and \n",
    "#y2-y1=y2\n",
    "\n",
    "distance_squared =[]\n",
    "for (x,y) in unique_points:\n",
    "    euclidean_formula_squared = x**2 + y**2\n",
    "    distance_squared.append(euclidean_formula_squared)\n",
    "    \n",
    "#to calculate the squared root:\n",
    "\n",
    "distance =[]\n",
    "for i in distance_squared:\n",
    "    square_root = round(math.sqrt(i),1)\n",
    "    distance.append(square_root)\n",
    "\n",
    "print(\"The distance to the center of each point is:\",distance)\n",
    "\n",
    "print(\"The minimum distance is:\",min(distance))\n",
    "\n",
    "print(\"The point with the minimum distance is at position:\",distance.index(min(distance)))\n",
    "\n",
    "print(\"ANSWER:The closest point to the center is:\",unique_points[distance.index(min(distance))])\n"
   ]
  },
  {
   "cell_type": "markdown",
   "metadata": {},
   "source": [
    "#### 4. If the archery target has a radius of 9, calculate the number of arrows that won't hit the target. \n",
    "**Hint**: Use the function created in step 3. "
   ]
  },
  {
   "cell_type": "code",
   "execution_count": 83,
   "metadata": {},
   "outputs": [
    {
     "name": "stdout",
     "output_type": "stream",
     "text": [
      "The unique points of arrows are: [(-5, 7), (3, -2), (-4, 7), (-4, 5), (9, 9), (5, 7), (4, 5), (0, 2), (1, -3), (-1, 3), (-4, -5), (2, 2), (-3, 2), (3, 2), (-8, -9), (0, -2), (4, 7)]\n",
      "The arrow ( -5 , 7 ) is NOT in the target\n",
      "The arrow ( 3 , -2 ) is NOT in the target\n",
      "The arrow ( -4 , 7 ) is NOT in the target\n",
      "The arrow ( -4 , 5 ) is NOT in the target\n",
      "The arrow ( 9 , 9 ) is NOT in the target\n",
      "The arrow ( 5 , 7 ) is NOT in the target\n",
      "The arrow ( 4 , 5 ) is NOT in the target\n",
      "The arrow ( 0 , 2 ) is in the target\n",
      "The arrow ( 1 , -3 ) is NOT in the target\n",
      "The arrow ( -1 , 3 ) is NOT in the target\n",
      "The arrow ( -4 , -5 ) is NOT in the target\n",
      "The arrow ( 2 , 2 ) is in the target\n",
      "The arrow ( -3 , 2 ) is NOT in the target\n",
      "The arrow ( 3 , 2 ) is NOT in the target\n",
      "The arrow ( -8 , -9 ) is NOT in the target\n",
      "The arrow ( 0 , -2 ) is in the target\n",
      "The arrow ( 4 , 7 ) is NOT in the target\n",
      "A total of 14 arrows are not in the target\n"
     ]
    }
   ],
   "source": [
    "#I assume that a radius of 9 mean that the arrow can hit a circle that passes throgh (-2,0),(0,-2),(2,0) and (0,2)\n",
    "# x and y must be between -2 and 2\n",
    "points = [(4, 5), (-0, 2), (4, 7), (1, -3), (3, -2), (4, 5), (3, 2), (5, 7), (-5, 7), (2, 2), (-4, 5), (0, -2),\n",
    "          (-4, 7), (-1, 3), (-3, 2), (-4, -5), (-3, 2), (5, 7), (5, 7), (2, 2), (9, 9), (-8, -9)]\n",
    "\n",
    "#I first create a list with the unique values of the list Points:\n",
    "unique_points = list(set(points))\n",
    "print(\"The unique points of arrows are:\",unique_points)\n",
    "\n",
    "\n",
    "for x,y in unique_points:\n",
    "    if (x<3) and (x>-3) and (y <3) and (y>-3):\n",
    "        print(\"The arrow (\",x,\",\",y,\")\",\"is in the target\")\n",
    "    else:\n",
    "        print(\"The arrow (\",x,\",\",y,\")\",\"is NOT in the target\")\n",
    "        \n",
    "print(\"A total of 14 arrows are not in the target\")"
   ]
  }
 ],
 "metadata": {
  "kernelspec": {
   "display_name": "Python 3",
   "language": "python",
   "name": "python3"
  },
  "language_info": {
   "codemirror_mode": {
    "name": "ipython",
    "version": 3
   },
   "file_extension": ".py",
   "mimetype": "text/x-python",
   "name": "python",
   "nbconvert_exporter": "python",
   "pygments_lexer": "ipython3",
   "version": "3.9.2"
  }
 },
 "nbformat": 4,
 "nbformat_minor": 2
}
