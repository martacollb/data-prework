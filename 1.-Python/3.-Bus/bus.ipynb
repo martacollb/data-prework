{
 "cells": [
  {
   "cell_type": "markdown",
   "metadata": {},
   "source": [
    "<img src=\"https://bit.ly/2VnXWr2\" width=\"100\" align=\"left\">"
   ]
  },
  {
   "cell_type": "markdown",
   "metadata": {},
   "source": [
    "# Bus\n",
    "\n",
    "This bus has a passenger entry and exit control system to monitor the number of occupants it carries and thus detect when there are too many.\n",
    "\n",
    "At each stop, the entry and exit of passengers is represented by a tuple consisting of two integer numbers.\n",
    "```\n",
    "bus_stop = (in, out)\n",
    "```\n",
    "The succession of stops is represented by a list of these tuples.\n",
    "```\n",
    "stops = [(in1, out1), (in2, out2), (in3, out3), (in4, out4)]\n",
    "```\n",
    "\n",
    "## Tools\n",
    "You don't necessarily need to use all the tools. Maybe you opt to use some of them or completely different ones, they are given to help you shape the exercise. Programming exercises can be solved in many different ways.\n",
    "* Data structures: **lists, tuples**\n",
    "* Loop: **while/for loops**\n",
    "* Functions: **min, max, len**\n",
    "\n",
    "## Tasks"
   ]
  },
  {
   "cell_type": "code",
   "execution_count": null,
   "metadata": {},
   "outputs": [],
   "source": [
    "# Variables\n",
    "stops = [(10, 0), (4, 1), (3, 5), (3, 4), (5, 1), (1, 5), (5, 8), (4, 6), (2, 3)]"
   ]
  },
  {
   "cell_type": "markdown",
   "metadata": {},
   "source": [
    "#### 1. Calculate the number of stops."
   ]
  },
  {
   "cell_type": "code",
   "execution_count": 3,
   "metadata": {},
   "outputs": [
    {
     "name": "stdout",
     "output_type": "stream",
     "text": [
      "The number of stops is equal to: 9\n"
     ]
    }
   ],
   "source": [
    "stops = [(10, 0), (4, 1), (3, 5), (3, 4), (5, 1), (1, 5), (5, 8), (4, 6), (2, 3)]\n",
    "print(\"The number of stops is equal to:\",len(stops))"
   ]
  },
  {
   "cell_type": "markdown",
   "metadata": {},
   "source": [
    "#### 2. Assign to a variable a list whose elements are the number of passengers at each stop (in-out).\n",
    "Each item depends on the previous item in the list + in - out."
   ]
  },
  {
   "cell_type": "code",
   "execution_count": 153,
   "metadata": {},
   "outputs": [
    {
     "name": "stdout",
     "output_type": "stream",
     "text": [
      "[10, 13, 11, 10, 14, 10, 7, 5, 4]\n"
     ]
    }
   ],
   "source": [
    "#Firstly, i converted the list of tuples into a list of integers:\n",
    "stops = [(10, 0), (4, 1), (3, 5), (3, 4), (5, 1), (1, 5), (5, 8), (4, 6), (2, 3)]\n",
    "difference = []\n",
    "for i in stops:\n",
    "    difference += i\n",
    "#write: print(difference) to see the new list of integers\n",
    "\n",
    "#Secondly, I defined 9 variables as d1... to subtract the in and outs\n",
    "d1=difference[0]-difference[1]\n",
    "d2=d1+difference[2]-difference[3]\n",
    "d3=+d2+difference[4]-difference[5]\n",
    "d4=d3+difference[6]-difference[7]\n",
    "d5=d4+difference[8]-difference[9]\n",
    "d6=d5+difference[10]-difference[11]\n",
    "d7=d6+difference[12]-difference[13]\n",
    "d8=d7+difference[14]-difference[15]\n",
    "d9=d8+difference[16]-difference[17]\n",
    "\n",
    "#Thirdly, I created a new list with the difference\n",
    "new_list = [d1,d2,d3,d4,d5,d6,d7,d8,d9]\n",
    "print(new_list)"
   ]
  },
  {
   "cell_type": "markdown",
   "metadata": {},
   "source": [
    "#### 3. Find the maximum occupation of the bus."
   ]
  },
  {
   "cell_type": "code",
   "execution_count": 155,
   "metadata": {},
   "outputs": [
    {
     "name": "stdout",
     "output_type": "stream",
     "text": [
      "Maximum occupation = 14\n"
     ]
    }
   ],
   "source": [
    "print(\"Maximum occupation =\",max(new_list))"
   ]
  },
  {
   "cell_type": "markdown",
   "metadata": {},
   "source": [
    "#### 4. Calculate the average occupation. And the standard deviation."
   ]
  },
  {
   "cell_type": "code",
   "execution_count": 158,
   "metadata": {},
   "outputs": [
    {
     "name": "stdout",
     "output_type": "stream",
     "text": [
      "Average ocupation =  9.333333333333334\n",
      "variance = 64.0\n",
      "As the square root of the variance = the standard deviation,\n",
      "The standard deviation of the displacement is equal to 8.0\n"
     ]
    }
   ],
   "source": [
    "average_ocupation = sum(new_list)/len(new_list)\n",
    "print(\"Average ocupation = \",average_ocupation)\n",
    "\n",
    "#To compute the standard deviation, i'll tro get the variance first:\n",
    "#First I would like to make a summatory of x-mean (absolute value) and elevate it al quadrat\n",
    "numerator = abs(abs(d1 - average_ocupation)+abs(d2 - average_ocupation)+abs(d3 - average_ocupation)\n",
    "+abs(d4 - average_ocupation)+abs(d5 - average_ocupation)+abs(d6 - average_ocupation)+abs(d7 - average_ocupation)\n",
    "+abs(d8 - average_ocupation)+abs(d9 - average_ocupation))**2\n",
    "denominator = len(new_list)\n",
    "variance = numerator/denominator\n",
    "print(\"variance =\",variance)\n",
    "print(\"As the square root of the variance = the standard deviation,\")\n",
    "\n",
    "\n",
    "x = 1.0\n",
    "a = float(variance)\n",
    "for k in range(1, 9):\n",
    "    x = (x + a/x)/2\n",
    "#print('La raiz de la varianza:', a, ' después de ', k, ' iteraciones es de ', x)\n",
    "print(\"The standard deviation of the displacement is equal to\",x)"
   ]
  }
 ],
 "metadata": {
  "kernelspec": {
   "display_name": "Python 3",
   "language": "python",
   "name": "python3"
  },
  "language_info": {
   "codemirror_mode": {
    "name": "ipython",
    "version": 3
   },
   "file_extension": ".py",
   "mimetype": "text/x-python",
   "name": "python",
   "nbconvert_exporter": "python",
   "pygments_lexer": "ipython3",
   "version": "3.9.2"
  }
 },
 "nbformat": 4,
 "nbformat_minor": 2
}
