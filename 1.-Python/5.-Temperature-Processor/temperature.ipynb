{
 "cells": [
  {
   "cell_type": "markdown",
   "metadata": {},
   "source": [
    "<img src=\"https://bit.ly/2VnXWr2\" width=\"100\" align=\"left\">"
   ]
  },
  {
   "cell_type": "markdown",
   "metadata": {},
   "source": [
    "# Temperature Sensor\n",
    "\n",
    "There is a temperature sensor in the processor of your company's server. The company wants to analyze the data provided by the sensor to decide if they should change the cooling system for a better one. As changing the cooling system is expensive and you are an excellent data analyst, you can't make a decision without basis.\n",
    "\n",
    "## Tools\n",
    "You don't necessarily need to use all the tools. Maybe you opt to use some of them or completely different ones, they are given to help you shape the exercise. Programming exercises can be solved in many different ways.\n",
    "1. Data structures: **lists**\n",
    "2. Loops: **list comprehension**\n",
    "3. Functions: **min, max, print, len**\n",
    "4. Conditional statements: **if-elif-else**\n",
    "\n",
    "## Tasks\n",
    "The temperatures measured throughout the 24 hours of a day are:"
   ]
  },
  {
   "cell_type": "code",
   "execution_count": 10,
   "metadata": {},
   "outputs": [],
   "source": [
    "temperatures_C = [33, 66, 65, 0, 59, 60, 62, 64, 70, 76, 80, 81, 80, 83, 90, 79, 61, 53, 50, 49, 53, 48, 45, 39]"
   ]
  },
  {
   "cell_type": "markdown",
   "metadata": {},
   "source": [
    "The first element of the list is the temperature at 12am, the second element is the temperature at 1am, and so on. \n",
    "\n",
    "The company has decided that if one of the following events occurs, then the cooling system needs to be replaced for a new one to avoid damaging the processor.\n",
    "* More than 4 temperatures are greater than or equal to 70ºC.\n",
    "* Any temperature is above 80ºC.\n",
    "* The average temperature exceeds 65ºC.\n",
    "\n",
    "Follow the steps so that you can make the decision.\n",
    "\n",
    "#### 1. Find the minimum temperature of the day and store it in a variable."
   ]
  },
  {
   "cell_type": "code",
   "execution_count": 11,
   "metadata": {},
   "outputs": [
    {
     "name": "stdout",
     "output_type": "stream",
     "text": [
      "minimum temperature =  0\n"
     ]
    }
   ],
   "source": [
    "temperatures_C = [33, 66, 65, 0, 59, 60, 62, 64, 70, 76, 80, 81, 80, 83, 90, 79, 61, 53, 50, 49, 53, 48, 45, 39]\n",
    "min_temperature = min(temperatures_C)\n",
    "print(\"minimum temperature = \",min_temperature)"
   ]
  },
  {
   "cell_type": "markdown",
   "metadata": {},
   "source": [
    "#### 2. Find the maximum temperature of the day and store it in a variable."
   ]
  },
  {
   "cell_type": "code",
   "execution_count": 12,
   "metadata": {},
   "outputs": [
    {
     "name": "stdout",
     "output_type": "stream",
     "text": [
      "maximum temperature =  90\n"
     ]
    }
   ],
   "source": [
    "temperatures_C = [33, 66, 65, 0, 59, 60, 62, 64, 70, 76, 80, 81, 80, 83, 90, 79, 61, 53, 50, 49, 53, 48, 45, 39]\n",
    "max_temperature = max(temperatures_C)\n",
    "print(\"maximum temperature = \",max_temperature)"
   ]
  },
  {
   "cell_type": "markdown",
   "metadata": {},
   "source": [
    "#### 3. Create a list with the temperatures that are greater than or equal to 70ºC. Store it in a variable."
   ]
  },
  {
   "cell_type": "code",
   "execution_count": 13,
   "metadata": {},
   "outputs": [
    {
     "name": "stdout",
     "output_type": "stream",
     "text": [
      "[76, 80, 81, 80, 83, 90, 79]\n"
     ]
    }
   ],
   "source": [
    "temperatures_C = [33, 66, 65, 0, 59, 60, 62, 64, 70, 76, 80, 81, 80, 83, 90, 79, 61, 53, 50, 49, 53, 48, 45, 39]\n",
    "\n",
    "temp_greater70 = [i for i in temperatures_C if i > 70]\n",
    "print(temp_greater70)"
   ]
  },
  {
   "cell_type": "markdown",
   "metadata": {},
   "source": [
    "#### 4. Find the average temperature of the day and store it in a variable."
   ]
  },
  {
   "cell_type": "code",
   "execution_count": 14,
   "metadata": {},
   "outputs": [
    {
     "name": "stdout",
     "output_type": "stream",
     "text": [
      "60.25\n"
     ]
    }
   ],
   "source": [
    "average_temp = sum(temperatures_C)/len(temperatures_C)\n",
    "print(average_temp)"
   ]
  },
  {
   "cell_type": "markdown",
   "metadata": {},
   "source": [
    "#### 5. Imagine that there was a sensor failure at 3am and the data for that specific hour was not recorded. How would you estimate the missing value? Replace the current value of the list at 3am for an estimation. "
   ]
  },
  {
   "cell_type": "code",
   "execution_count": 5,
   "metadata": {},
   "outputs": [
    {
     "name": "stdout",
     "output_type": "stream",
     "text": [
      "[33, 66, 65, 0, 59, 60, 62, 64, 70, 76, 80, 81, 80, 83, 90, 75.5, 61, 53, 50, 49, 53, 48, 45, 39]\n"
     ]
    }
   ],
   "source": [
    "temperatures_C = [33, 66, 65, 0, 59, 60, 62, 64, 70, 76, 80, 81, 80, 83, 90, 79, 61, 53, 50, 49, 53, 48, 45, 39]\n",
    "#I create a list with the hours\n",
    "hours = [12,13,14,15,16,17,18,19,20,21,22,23,24,1,2,3,4,5,6,7,8,9,10,11]\n",
    "\n",
    "#I create a dictionary in which the keys are the hours and the values are the temperatures\n",
    "zip_iterator = zip(hours, temperatures_C)\n",
    "dictionary = dict(zip_iterator)\n",
    "\n",
    "#write the following to see the first dictionary: print(dictionary)\n",
    "\n",
    "#I compute the average of the temperatures in 2am and 4am:\n",
    "average_2_4 = (int(temperatures_C[16])+int(temperatures_C[14]))/2\n",
    "\n",
    "#I update the dictionary\n",
    "updict = {3  : average_2_4} \n",
    "  \n",
    "for i in dictionary:       \n",
    "    if i in updict: \n",
    "        dictionary[i]  = updict[i] \n",
    "\n",
    "#I print a list of the dictionary values (temperatures)\n",
    "print(list(dictionary.values()))"
   ]
  },
  {
   "cell_type": "markdown",
   "metadata": {},
   "source": [
    "#### 6. Bonus: the maintenance staff is from the United States and does not understand the international metric system. Help them by converting the temperatures from Celsius to Fahrenheit.\n",
    "To know more about temperature conversion check this [link](https://en.wikipedia.org/wiki/Conversion_of_units_of_temperature).\n",
    "\n",
    "**Formula**: \n",
    "\n",
    "$F = 1.8 * C + 32$"
   ]
  },
  {
   "cell_type": "code",
   "execution_count": 6,
   "metadata": {},
   "outputs": [
    {
     "name": "stdout",
     "output_type": "stream",
     "text": [
      "[91.4, 150.8, 149.0, 32.0, 138.2, 140.0, 143.6, 147.2, 158.0, 168.8, 176.0, 177.8, 176.0, 181.4, 194.0, 174.2, 141.8, 127.4, 122.0, 120.2, 127.4, 118.4, 113.0, 102.2]\n"
     ]
    }
   ],
   "source": [
    "temperatures_C = [33, 66, 65, 0, 59, 60, 62, 64, 70, 76, 80, 81, 80, 83, 90, 79, 61, 53, 50, 49, 53, 48, 45, 39]\n",
    "temperatures_F = []\n",
    "\n",
    "for i in temperatures_C:\n",
    "    far = round(i*1.8 +32,2)\n",
    "    temperatures_F.append(far)\n",
    "    \n",
    "print(temperatures_F)"
   ]
  },
  {
   "cell_type": "markdown",
   "metadata": {},
   "source": [
    "#### 7. Make a decision!\n",
    "Now it's time to make a decision taking into account what you have seen until now. \n",
    "\n",
    "Remember that if one of the following events occurs, then the cooling system needs to be replaced for a new one to avoid damaging the processor.\n",
    "* More than 4 temperatures are greater than or equal to 70ºC.\n",
    "* Any temperature is above 80ºC.\n",
    "* The average temperature exceeds 65ºC.\n",
    "\n",
    "#### To make your decision, check if any of the three conditions above is met. You might need to use some of the variables you created in steps 1 to 6. Print a message to show if the cooling system needs to be changed or not."
   ]
  },
  {
   "cell_type": "code",
   "execution_count": 15,
   "metadata": {},
   "outputs": [
    {
     "name": "stdout",
     "output_type": "stream",
     "text": [
      "The cooling system needs to be replaced\n"
     ]
    }
   ],
   "source": [
    "if (len(temp_greater70) > 4) or (max_temperature > 80) or (average_temp > 65):\n",
    "    print(\"The cooling system needs to be replaced\")\n",
    "else:\n",
    "    print(\"The cooling system does not need to be replaced\")"
   ]
  },
  {
   "cell_type": "markdown",
   "metadata": {},
   "source": [
    "## Bonus\n",
    "\n",
    "The company has decided that the decision you made is not valid. They want you to analyze the data again but this time, the conditions that need to be met in order to change the cooling system are different.\n",
    "\n",
    "This time, if one of the following events occurs, then the cooling system needs to be replaced:\n",
    "* The temperature is greater than 70ºC during more than 4 consecutive hours.\n",
    "* Any temperature is above 80ºC.\n",
    "* The average temperature exceeds 65ºC.\n",
    "\n",
    "Follow the steps so that you can make the decision.\n",
    "\n",
    "#### 1. Create a list with the hours where the temperature is greater than 70ºC. Store it in a variable."
   ]
  },
  {
   "cell_type": "code",
   "execution_count": 67,
   "metadata": {},
   "outputs": [
    {
     "name": "stdout",
     "output_type": "stream",
     "text": [
      "[76, 80, 81, 80, 83, 90, 79]\n"
     ]
    }
   ],
   "source": [
    "temperatures_C = [33, 66, 65, 0, 59, 60, 62, 64, 70, 76, 80, 81, 80, 83, 90, 79, 61, 53, 50, 49, 53, 48, 45, 39]\n",
    "\n",
    "temp_greater70 = [i for i in temperatures_C if i > 70]\n",
    "print(temp_greater70)"
   ]
  },
  {
   "cell_type": "markdown",
   "metadata": {},
   "source": [
    "#### 2. Check if the list you created in step 1 has more than 4 consecutive hours. "
   ]
  },
  {
   "cell_type": "code",
   "execution_count": 59,
   "metadata": {},
   "outputs": [
    {
     "name": "stdout",
     "output_type": "stream",
     "text": [
      "The list created in step 1 has more than 4 consecutive hours\n",
      "The list created in step 1 has more than 4 consecutive hours\n",
      "The list created in step 1 has more than 4 consecutive hours\n",
      "The list created in step 1 has more than 4 consecutive hours\n"
     ]
    }
   ],
   "source": [
    "temperatures_C = [33, 66, 65, 0, 59, 60, 62, 64, 70, 76, 80, 81, 80, 83, 90, 79, 61, 53, 50, 49, 53, 48, 45, 39]\n",
    "\n",
    "#I create a new list that will contain the numbers in groups of four\n",
    "#E.G. [[33, 66, 65, 0], [66, 65, 0, 59],...\n",
    "consecutive_4 = [[temperatures_C[i], temperatures_C[i + 1],temperatures_C[i + 2],temperatures_C[i + 3]]\n",
    "   for i in range(len(temperatures_C) - 3)]\n",
    "\n",
    "#Now, I will check if some of the elements in the new list consecutive_4 are grater than 70 (all 4 elements greater than 70)\n",
    "\n",
    "#newlist = []\n",
    "for x,y,z,r in consecutive_4:\n",
    "    if x > 70 and y > 70 and z > 70 and r > 70:\n",
    "        print(\"The list created in step 1 has more than 4 consecutive hours\")\n",
    "        #newlist.append(x)\n",
    "        #print(x,y,z,r,\"mayor70\")\n",
    "#print(newlist)"
   ]
  },
  {
   "cell_type": "markdown",
   "metadata": {},
   "source": [
    "#### 3. Make the decision!\n",
    "To make your decision, check if any of the three conditions is met. Print a message to show if the cooling system needs to be changed or not."
   ]
  },
  {
   "cell_type": "code",
   "execution_count": 67,
   "metadata": {},
   "outputs": [
    {
     "name": "stdout",
     "output_type": "stream",
     "text": [
      "CONDITION 1 is met\n",
      "CONDITION 2 is met\n",
      "CONDITION 3 is not met\n",
      "ANSWER: The system needs to be changed!\n"
     ]
    }
   ],
   "source": [
    "#CONDITION 1: The temperature is greater than 70ºC during more than 4 consecutive hours.\n",
    "temperatures_C = [33, 66, 65, 0, 59, 60, 62, 64, 70, 76, 80, 81, 80, 83, 90, 79, 61, 53, 50, 49, 53, 48, 45, 39]\n",
    "\n",
    "#I create a new list that will contain the numbers in groups of four\n",
    "#E.G. [[33, 66, 65, 0], [66, 65, 0, 59],...\n",
    "consecutive_4 = [[temperatures_C[i], temperatures_C[i + 1],temperatures_C[i + 2],temperatures_C[i + 3]]\n",
    "   for i in range(len(temperatures_C) - 3)]\n",
    "\n",
    "#Now, I will check if some of the elements in the new list consecutive_4 are grater than 70 (all 4 elements greater than 70)\n",
    "\n",
    "newlist = []\n",
    "for x,y,z,r in consecutive_4:\n",
    "    if x > 70 and y > 70 and z > 70 and r > 70:\n",
    "        newlist.append(x)\n",
    "        #print(x,y,z,r,\"mayor70\")\n",
    "if len(newlist)>0:\n",
    "    print(\"CONDITION 1 is met\")\n",
    "else:\n",
    "    print(\"CONDITION 1 is not met\")\n",
    "\n",
    "#CONDITION 2: Any temperature is above 80ºC.\n",
    "if max(temperatures_C)>80:\n",
    "    print(\"CONDITION 2 is met\")\n",
    "else:\n",
    "    print(\"CONDITION 2 is not met\")\n",
    "\n",
    "#CONDITION 3: The average temperature exceeds 65ºC.\n",
    "if sum(temperatures_C)/len(temperatures_C) > 65:\n",
    "    print(\"CONDITION 3 is met\")\n",
    "else:\n",
    "    print(\"CONDITION 3 is not met\")\n",
    "    \n",
    "if sum(temperatures_C)/len(temperatures_C) > 65 or max(temperatures_C)>80 or len(newlist)>0:\n",
    "    print(\"ANSWER: The system needs to be changed!\")\n",
    "else:\n",
    "    print(\"ANSWER: The system doesn't need to be changed!\")"
   ]
  },
  {
   "cell_type": "markdown",
   "metadata": {},
   "source": [
    "#### 4. Find the average value of the temperature lists (ºC and ºF). What is the relation between both average values?"
   ]
  },
  {
   "cell_type": "code",
   "execution_count": 75,
   "metadata": {},
   "outputs": [
    {
     "name": "stdout",
     "output_type": "stream",
     "text": [
      "Average value of temperature in ºC: 60.25\n",
      "Average value of temperature in ºF: 140.45\n",
      "140.45\n",
      "the relation between them is: 𝐹=1.8∗𝐶+32\n"
     ]
    }
   ],
   "source": [
    "temperatures_C = [33, 66, 65, 0, 59, 60, 62, 64, 70, 76, 80, 81, 80, 83, 90, 79, 61, 53, 50, 49, 53, 48, 45, 39]\n",
    "temperatures_F = []\n",
    "\n",
    "for i in temperatures_C:\n",
    "    far = round(i*1.8 +32,2)\n",
    "    temperatures_F.append(far)\n",
    "    \n",
    "print(\"Average value of temperature in ºC:\",sum(temperatures_C)/len(temperatures_C))\n",
    "print(\"Average value of temperature in ºF:\",sum(temperatures_F)/len(temperatures_F))\n",
    "\n",
    "check_formula = sum(temperatures_C)/len(temperatures_C)*1.8+32\n",
    "print(check_formula)\n",
    "\n",
    "print(\"the relation between them is: 𝐹=1.8∗𝐶+32\")"
   ]
  },
  {
   "cell_type": "markdown",
   "metadata": {},
   "source": [
    "#### 5. Find the standard deviation of the temperature lists (ºC and ºF). What is the relation between both standard deviations?"
   ]
  },
  {
   "cell_type": "code",
   "execution_count": 87,
   "metadata": {},
   "outputs": [
    {
     "name": "stdout",
     "output_type": "stream",
     "text": [
      "Standard deviation of the temperature in ºC = 19.7\n",
      "Standard deviation of the temperature in ºF = 35.46\n",
      "The ºF is 1.8 times the ºC\n"
     ]
    }
   ],
   "source": [
    "from statistics import variance\n",
    "import math  \n",
    "\n",
    "print(\"Standard deviation of the temperature in ºC =\",round(math.sqrt(variance(temperatures_C)),2))\n",
    "print(\"Standard deviation of the temperature in ºF =\",round(math.sqrt(variance(temperatures_F)),2))\n",
    "\n",
    "print(\"The ºF is\",round(math.sqrt(variance(temperatures_F)),2)/round(math.sqrt(variance(temperatures_C)),2),\"times the ºC\")"
   ]
  },
  {
   "cell_type": "code",
   "execution_count": null,
   "metadata": {},
   "outputs": [],
   "source": []
  }
 ],
 "metadata": {
  "kernelspec": {
   "display_name": "Python 3",
   "language": "python",
   "name": "python3"
  },
  "language_info": {
   "codemirror_mode": {
    "name": "ipython",
    "version": 3
   },
   "file_extension": ".py",
   "mimetype": "text/x-python",
   "name": "python",
   "nbconvert_exporter": "python",
   "pygments_lexer": "ipython3",
   "version": "3.9.2"
  }
 },
 "nbformat": 4,
 "nbformat_minor": 2
}
