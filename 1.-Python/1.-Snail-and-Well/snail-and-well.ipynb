{
 "cells": [
  {
   "cell_type": "markdown",
   "metadata": {},
   "source": [
    "<img src=\"https://bit.ly/2VnXWr2\" width=\"100\" align=\"left\">"
   ]
  },
  {
   "cell_type": "markdown",
   "metadata": {},
   "source": [
    "# The Snail and the Well\n",
    "\n",
    "A snail falls at the bottom of a 125 cm well. Each day the snail rises 30 cm. But at night, while sleeping, slides 20 cm because the walls are wet. How many days does it take for the snail to escape the well?\n",
    "\n",
    "**Hint**: The snail gets out of the well when it surpasses the 125cm of height.\n",
    "\n",
    "## Tools\n",
    "\n",
    "1. Loop: **while**\n",
    "2. Conditional statements: **if-else**\n",
    "3. Function: **print()**\n",
    "\n",
    "## Tasks\n",
    "\n",
    "#### 1. Assign the challenge data to variables with representative names: `well_height`, `daily_distance`, `nightly_distance` and `snail_position`."
   ]
  },
  {
   "cell_type": "code",
   "execution_count": 8,
   "metadata": {},
   "outputs": [],
   "source": [
    "well_hight = 125\n",
    "daily_distance = 30\n",
    "nightly_distance = 20\n",
    "snail_position = 0"
   ]
  },
  {
   "cell_type": "markdown",
   "metadata": {},
   "source": [
    "#### 2. Create a variable `days` to keep count of the days that pass until the snail escapes the well. "
   ]
  },
  {
   "cell_type": "code",
   "execution_count": 17,
   "metadata": {},
   "outputs": [],
   "source": [
    "days = well_hight / (daily_distance - nightly_distance)"
   ]
  },
  {
   "cell_type": "markdown",
   "metadata": {},
   "source": [
    "#### 3. Find the solution to the challenge using the variables defined above. "
   ]
  },
  {
   "cell_type": "code",
   "execution_count": null,
   "metadata": {},
   "outputs": [],
   "source": [
    "well_hight = 125\n",
    "daily_distance = 30\n",
    "nightly_distance = 20\n",
    "snail_position = 0\n",
    "\n",
    "days = well_hight / (daily_distance - nightly_distance)\n",
    "\n",
    "snail_position = snail_position + (daily_distance - nightly_distance)\n",
    "\n",
    "while snail_position < well_hight:\n",
    "    snail_position = snail_position + (daily_distance - nightly_distance)"
   ]
  },
  {
   "cell_type": "markdown",
   "metadata": {},
   "source": [
    "#### 4. Print the solution."
   ]
  },
  {
   "cell_type": "code",
   "execution_count": 1,
   "metadata": {},
   "outputs": [
    {
     "name": "stdout",
     "output_type": "stream",
     "text": [
      "Snail falls in the well.\n",
      "Snail is still in the well\n",
      "Snail is still in the well\n",
      "Snail is still in the well\n",
      "Snail is still in the well\n",
      "Snail is still in the well\n",
      "Snail is still in the well\n",
      "Snail is still in the well\n",
      "Snail is still in the well\n",
      "Snail is still in the well\n",
      "Snail is still in the well\n",
      "Snail is still in the well\n",
      "Snail out of the well!\n",
      "How many days does it take for the snail to escape the well? It takes 12 days\n"
     ]
    }
   ],
   "source": [
    "well_hight = 125\n",
    "daily_distance = 30\n",
    "nightly_distance = 20\n",
    "snail_position = 0\n",
    "\n",
    "days = well_hight / (daily_distance - nightly_distance)\n",
    "\n",
    "snail_position = snail_position + (daily_distance - nightly_distance)\n",
    "\n",
    "print(\"Snail falls in the well.\")\n",
    "snail_position = snail_position + (daily_distance - nightly_distance)\n",
    "\n",
    "while snail_position < well_hight:\n",
    "    print(\"Snail is still in the well\")\n",
    "    snail_position = snail_position + (daily_distance - nightly_distance)\n",
    "print(\"Snail out of the well!\")\n",
    "print(\"How many days does it take for the snail to escape the well? It takes\",int(days),\"days\")"
   ]
  },
  {
   "cell_type": "markdown",
   "metadata": {},
   "source": [
    "## Bonus\n",
    "The distance traveled by the snail each day is now defined by a list.\n",
    "```\n",
    "advance_cm = [30, 21, 33, 77, 44, 45, 23, 45, 12, 34, 55]\n",
    "```\n",
    "On the first day, the snail rises 30cm but during the night it slides 20cm. On the second day, the snail rises 21cm but during the night it slides 20cm, and so on. \n",
    "\n",
    "#### 1. How many days does it take for the snail to escape the well?\n",
    "Follow the same guidelines as in the previous challenge.\n",
    "\n",
    "**Hint**: Remember that the snail gets out of the well when it surpasses the 125cm of height."
   ]
  },
  {
   "cell_type": "code",
   "execution_count": 1,
   "metadata": {},
   "outputs": [
    {
     "name": "stdout",
     "output_type": "stream",
     "text": [
      "Accumulated distance per day: [10, 11, 24, 81, 105, 130, 133, 158, 150, 164, 199]\n",
      "How many days does it take for the snail to escape the well? The snail gets out on the day 5\n"
     ]
    }
   ],
   "source": [
    "daily_distance = [30, 21, 33, 77, 44, 45, 23, 45, 12, 34, 55]\n",
    "nightly_distance = 20\n",
    "well_hight = 125\n",
    "snail_position = 0\n",
    "\n",
    "new_position = []\n",
    "\n",
    "for i in daily_distance:\n",
    "    snail_position = snail_position + i - nightly_distance\n",
    "    new_position.append(snail_position)\n",
    "print(\"Accumulated distance per day:\",new_position)\n",
    "\n",
    "new_position2 = [i for i in new_position if i <= 125]\n",
    "print(\"How many days does it take for the snail to escape the well?\",\"The snail gets out on the day\",len(new_position2))"
   ]
  },
  {
   "cell_type": "markdown",
   "metadata": {},
   "source": [
    "#### 2. What is its maximum displacement in one day? And its minimum? Calculate the displacement using only the travel distance of the days used to get out of the well. \n",
    "**Hint**: Remember that displacement means the total distance risen taking into account that the snail slides at night.  "
   ]
  },
  {
   "cell_type": "code",
   "execution_count": 2,
   "metadata": {},
   "outputs": [
    {
     "name": "stdout",
     "output_type": "stream",
     "text": [
      "What is its maximum displacement in one day? = 57 cm\n",
      "And its minimum? = 1 cm\n"
     ]
    }
   ],
   "source": [
    "daily_distance = [30, 21, 33, 77, 44]\n",
    "nightly_distance = 20\n",
    "well_hight = 125\n",
    "snail_position = 0\n",
    "\n",
    "accumulated_distance = []\n",
    "displacement = []\n",
    "\n",
    "for i in daily_distance:\n",
    "    snail_position = i - nightly_distance\n",
    "    displacement.append(snail_position)\n",
    "print(\"What is its maximum displacement in one day? =\",max(displacement),\"cm\")\n",
    "print(\"And its minimum? =\",min(displacement),\"cm\")"
   ]
  },
  {
   "cell_type": "markdown",
   "metadata": {},
   "source": [
    "#### 3. What is its average progress? Take into account the snail slides at night."
   ]
  },
  {
   "cell_type": "code",
   "execution_count": 264,
   "metadata": {},
   "outputs": [
    {
     "name": "stdout",
     "output_type": "stream",
     "text": [
      "What is its average progress? 21.0 cm\n"
     ]
    }
   ],
   "source": [
    "daily_distance = [30, 21, 33, 77, 44]\n",
    "nightly_distance = 20\n",
    "well_hight = 125\n",
    "snail_position = 0\n",
    "\n",
    "displacement = []\n",
    "\n",
    "for i in daily_distance:\n",
    "    snail_position = i - nightly_distance\n",
    "    displacement.append(snail_position)\n",
    "\n",
    "print(\"What is its average progress?\",sum(displacement)/len(displacement),\"cm\")"
   ]
  },
  {
   "cell_type": "markdown",
   "metadata": {},
   "source": [
    "#### 4. What is the standard deviation of its displacement? Take into account the snail slides at night."
   ]
  },
  {
   "cell_type": "code",
   "execution_count": 286,
   "metadata": {},
   "outputs": [
    {
     "name": "stdout",
     "output_type": "stream",
     "text": [
      "Variance: 1216.8\n",
      "As the square root of the variance = the standard deviation,\n",
      "The standard deviation of the displacement is equal to 34.88266044900905\n"
     ]
    }
   ],
   "source": [
    "daily_distance = [30, 21, 33, 77, 44]\n",
    "nightly_distance = 20\n",
    "well_hight = 125\n",
    "snail_position = 0\n",
    "\n",
    "displacement = []\n",
    "\n",
    "for i in daily_distance:\n",
    "    snail_position = i - nightly_distance\n",
    "    displacement.append(snail_position)\n",
    "\n",
    "mean = sum(displacement)/len(displacement)\n",
    "\n",
    "numerator = (abs(displacement[0] - mean)+abs(displacement[1] - mean)+abs(displacement[2] - mean)+abs(displacement[3] - mean)+abs(displacement[4] - mean))**2\n",
    "denominator = len(daily_distance)\n",
    "fraction = numerator / denominator\n",
    "\n",
    "\n",
    "print(\"Variance:\",fraction)\n",
    "print(\"As the square root of the variance = the standard deviation,\")\n",
    "\n",
    "\n",
    "x = 1.0\n",
    "a = float(fraction)\n",
    "for k in range(1, 10):\n",
    "    x = (x + a/x)/2\n",
    "#print('La raiz de la varianza:', a, ' después de ', k, ' iteraciones es de ', x)\n",
    "print(\"The standard deviation of the displacement is equal to\",x)"
   ]
  }
 ],
 "metadata": {
  "kernelspec": {
   "display_name": "Python 3",
   "language": "python",
   "name": "python3"
  },
  "language_info": {
   "codemirror_mode": {
    "name": "ipython",
    "version": 3
   },
   "file_extension": ".py",
   "mimetype": "text/x-python",
   "name": "python",
   "nbconvert_exporter": "python",
   "pygments_lexer": "ipython3",
   "version": "3.9.2"
  }
 },
 "nbformat": 4,
 "nbformat_minor": 2
}
