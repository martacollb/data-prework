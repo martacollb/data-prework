{
 "cells": [
  {
   "cell_type": "markdown",
   "metadata": {},
   "source": [
    "<img src=\"https://bit.ly/2VnXWr2\" width=\"100\" align=\"left\">"
   ]
  },
  {
   "cell_type": "markdown",
   "metadata": {},
   "source": [
    "# Duel of Sorcerers\n",
    "You are witnessing an epic battle between two powerful sorcerers: Gandalf and Saruman. Each sorcerer has 10 spells of variable power in their mind and they are going to throw them one after the other. The winner of the duel will be the one who wins more of those clashes between spells. Spells are represented as a list of 10 integers whose value equals the power of the spell.\n",
    "```\n",
    "gandalf = [10, 11, 13, 30, 22, 11, 10, 33, 22, 22]\n",
    "saruman = [23, 66, 12, 43, 12, 10, 44, 23, 12, 17]\n",
    "```\n",
    "For example:\n",
    "- The first clash is won by Saruman: 10 against 23.\n",
    "- The second clash is won by Saruman: 11 against 66.\n",
    "- ...\n",
    "\n",
    "You will create two variables, one for each sorcerer, where the sum of clashes won will be stored. Depending on which variable is greater at the end of the duel, you will show one of the following three results on the screen:\n",
    "* Gandalf wins\n",
    "* Saruman wins\n",
    "* Tie\n",
    "\n",
    "<img src=\"images/content_lightning_bolt_big.jpg\" width=\"400\">"
   ]
  },
  {
   "cell_type": "markdown",
   "metadata": {},
   "source": [
    "## Tools\n",
    "You don't necessarily need to use all the tools. Maybe you opt to use some of them or completely different ones, they are given to help you shape the exercise. Programming exercises can be solved in many different ways.\n",
    "\n",
    "1. Data structures: **lists, dictionaries**\n",
    "2. Loop: **for loop**\n",
    "3. Conditional statements: **if-elif-else**\n",
    "4. Functions: **range(), len(), print()**\n",
    "\n",
    "## Tasks\n",
    "\n",
    "#### 1. Create two variables called `gandalf` and `saruman` and assign them the spell power lists. Create a variable called `spells` to store the number of spells that the sorcerers cast. "
   ]
  },
  {
   "cell_type": "code",
   "execution_count": 13,
   "metadata": {},
   "outputs": [],
   "source": [
    "gandalf = [10, 11, 13, 30, 22, 11, 10, 33, 22, 22]\n",
    "saruman = [23, 66, 12, 43, 12, 10, 44, 23, 12, 17]\n",
    "spells = len(gandalf)\n",
    "#spells es una variable para almacenar el número de hechizos que lanzan los hechiceros. "
   ]
  },
  {
   "cell_type": "markdown",
   "metadata": {},
   "source": [
    "#### 2. Create two variables called `gandalf_wins` and `saruman_wins`. Set both of them to 0. \n",
    "You will use these variables to count the number of clashes each sorcerer wins. "
   ]
  },
  {
   "cell_type": "code",
   "execution_count": 14,
   "metadata": {},
   "outputs": [],
   "source": [
    "gandalf_wins = 0\n",
    "saruman_wins = 0"
   ]
  },
  {
   "cell_type": "markdown",
   "metadata": {},
   "source": [
    "#### 3. Using the lists of spells of both sorcerers, update variables `gandalf_wins` and `saruman_wins` to count the number of times each sorcerer wins a clash. "
   ]
  },
  {
   "cell_type": "code",
   "execution_count": 1,
   "metadata": {},
   "outputs": [
    {
     "name": "stdout",
     "output_type": "stream",
     "text": [
      "Amount of gandalf winnings: 6\n",
      "Amount of saruman winnings: 4\n"
     ]
    }
   ],
   "source": [
    "#variables\n",
    "gandalf = [10, 11, 13, 30, 22, 11, 10, 33, 22, 22]\n",
    "saruman = [23, 66, 12, 43, 12, 10, 44, 23, 12, 17]\n",
    "spells = len(gandalf)\n",
    "\n",
    "gandalf_wins = 0\n",
    "saruman_wins = 0\n",
    "\n",
    "# new list we want to create\n",
    "difference_gandalf_saruman = []\n",
    "\n",
    "# substraction of gandalf power - saruman power\n",
    "zip_object = zip(gandalf,saruman)\n",
    "for gandalf_i, saruman_i in zip_object:\n",
    "    difference_gandalf_saruman.append(gandalf_i-saruman_i)\n",
    "\n",
    "# if you want to see the new list, print the following: print(difference_gandalf_saruman)\n",
    "\n",
    "# count of the times each one wins\n",
    "gandalf_winning_diff = [i for i in difference_gandalf_saruman if i > 0]\n",
    "saruman_winning_diff = [i for i in difference_gandalf_saruman if i < 0]\n",
    "\n",
    "# if you want to see the new lists, print the following: \n",
    "#print(gandalf_winning_diff)\n",
    "#print(saruman_winning_diff)\n",
    "\n",
    "#new definition of the variables:\n",
    "gandalf_wins = len(gandalf_winning_diff)\n",
    "saruman_wins = len(saruman_winning_diff)\n",
    "\n",
    "# Solution\n",
    "print(\"Amount of gandalf winnings:\",gandalf_wins)\n",
    "print(\"Amount of saruman winnings:\",saruman_wins)\n"
   ]
  },
  {
   "cell_type": "markdown",
   "metadata": {},
   "source": [
    "#### 4. Who won the battle?\n",
    "Print `Gandalf wins`, `Saruman wins` or `Tie` depending on the result. "
   ]
  },
  {
   "cell_type": "code",
   "execution_count": 30,
   "metadata": {},
   "outputs": [
    {
     "name": "stdout",
     "output_type": "stream",
     "text": [
      "Gandalf wins\n"
     ]
    }
   ],
   "source": [
    "if gandalf_wins > saruman_wins:\n",
    "    print(\"Gandalf wins\")\n",
    "elif gandalf_wins < saruman_wins:\n",
    "    print(\"Saruman wins\")\n",
    "elif gandalf_wins == saruman_wins:\n",
    "    print(\"Tie\")"
   ]
  },
  {
   "cell_type": "markdown",
   "metadata": {},
   "source": [
    "## Bonus\n",
    "\n",
    "In this bonus challenge, you'll need to check the winner of the battle but this time, a sorcerer wins if he succeeds in winning 3 spell clashes in a row.\n",
    "\n",
    "Also, the spells now have a name and there is a dictionary that associates that name to a power.\n",
    "\n",
    "```\n",
    "POWER = {\n",
    "    'Fireball': 50, \n",
    "    'Lightning bolt': 40, \n",
    "    'Magic arrow': 10, \n",
    "    'Black Tentacles': 25, \n",
    "    'Contagion': 45\n",
    "}\n",
    "\n",
    "gandalf = ['Fireball', 'Lightning bolt', 'Lightning bolt', 'Magic arrow', 'Fireball', \n",
    "           'Magic arrow', 'Lightning bolt', 'Fireball', 'Fireball', 'Fireball']\n",
    "saruman = ['Contagion', 'Contagion', 'Black Tentacles', 'Fireball', 'Black Tentacles', \n",
    "           'Lightning bolt', 'Magic arrow', 'Contagion', 'Magic arrow', 'Magic arrow']\n",
    "```\n",
    "\n",
    "#### 1. Create variables `POWER`, `gandalf` and `saruman` as seen above. Create a variable called `spells` to store the number of spells that the sorcerers cast. "
   ]
  },
  {
   "cell_type": "code",
   "execution_count": 1,
   "metadata": {},
   "outputs": [],
   "source": [
    "POWER = {\n",
    "    'Fireball': 50, \n",
    "    'Lightning bolt': 40, \n",
    "    'Magic arrow': 10, \n",
    "    'Black Tentacles': 25, \n",
    "    'Contagion': 45\n",
    "}\n",
    "\n",
    "gandalf = ['Fireball', 'Lightning bolt', 'Lightning bolt', 'Magic arrow', 'Fireball', \n",
    "           'Magic arrow', 'Lightning bolt', 'Fireball', 'Fireball', 'Fireball']\n",
    "saruman = ['Contagion', 'Contagion', 'Black Tentacles', 'Fireball', 'Black Tentacles', \n",
    "           'Lightning bolt', 'Magic arrow', 'Contagion', 'Magic arrow', 'Magic arrow']\n",
    "\n",
    "\n",
    "#spells es una variable para almacenar el número de hechizos que lanzan los hechiceros. \n",
    "spells = len(POWER)"
   ]
  },
  {
   "cell_type": "markdown",
   "metadata": {},
   "source": [
    "#### 2. Create two variables called `gandalf_wins` and `saruman_wins`. Set both of them to 0. "
   ]
  },
  {
   "cell_type": "code",
   "execution_count": 2,
   "metadata": {},
   "outputs": [],
   "source": [
    "gandalf_wins = 0\n",
    "saruman_wins = 0"
   ]
  },
  {
   "cell_type": "markdown",
   "metadata": {},
   "source": [
    "#### 3. Create two variables called `gandalf_power` and `saruman_power` to store the list of spell powers of each sorcerer."
   ]
  },
  {
   "cell_type": "code",
   "execution_count": 3,
   "metadata": {},
   "outputs": [
    {
     "name": "stdout",
     "output_type": "stream",
     "text": [
      "Gandalf's spell powers: [50, 40, 40, 10, 50, 10, 40, 50, 50, 50]\n",
      "Saruman's spell powers: [45, 45, 25, 50, 25, 40, 10, 45, 10, 10]\n"
     ]
    }
   ],
   "source": [
    "#variables\n",
    "POWER = {'Fireball': 50, 'Lightning bolt': 40, 'Magic arrow': 10, 'Black Tentacles': 25, 'Contagion': 45}\n",
    "\n",
    "gandalf = ['Fireball', 'Lightning bolt', 'Lightning bolt', 'Magic arrow', 'Fireball', \n",
    "           'Magic arrow', 'Lightning bolt', 'Fireball', 'Fireball', 'Fireball']\n",
    "saruman = ['Contagion', 'Contagion', 'Black Tentacles', 'Fireball', 'Black Tentacles', \n",
    "           'Lightning bolt', 'Magic arrow', 'Contagion', 'Magic arrow', 'Magic arrow']\n",
    "\n",
    "#spells es una variable para almacenar el número de hechizos que lanzan los hechiceros. \n",
    "spells = len(POWER)\n",
    "\n",
    "#variables\n",
    "gandalf_wins = 0\n",
    "saruman_wins = 0\n",
    "\n",
    "#the lists we want to create\n",
    "gandalf_power = []\n",
    "saruman_power = []\n",
    "\n",
    "#to do a match of the name of the powers (fireball) and its power (50):\n",
    "for i in gandalf:\n",
    "    gandalf_power.append(POWER[i])\n",
    "for i in saruman:\n",
    "    saruman_power.append(POWER[i])\n",
    "print(\"Gandalf's spell powers:\", gandalf_power)\n",
    "print(\"Saruman's spell powers:\", saruman_power)\n"
   ]
  },
  {
   "cell_type": "markdown",
   "metadata": {},
   "source": [
    "#### 4. The battle starts! Using the variables you've created above, code the execution of spell clashes. Remember that a sorcerer wins if he succeeds in winning 3 spell clashes in a row. \n",
    "If a clash ends up in a tie, the counter of wins in a row is not restarted to 0. Remember to print who is the winner of the battle. "
   ]
  },
  {
   "cell_type": "code",
   "execution_count": 4,
   "metadata": {},
   "outputs": [
    {
     "name": "stdout",
     "output_type": "stream",
     "text": [
      "Gandalf will cast 10 spells\n",
      "Saruman will cast 10 spells\n",
      "BATTLE STARTS\n",
      "> Round 0 - Gandalf: 50  Saruman: 45\n",
      "Gandalf wins the round! 1 round(s) in a row.\n",
      "Noone won 3 rounds in a row yet.\n",
      "> Round 1 - Gandalf: 40  Saruman: 45\n",
      "Saruman wins the round! 1 round(s) in a row.\n",
      "Noone won 3 rounds in a row yet.\n",
      "> Round 2 - Gandalf: 40  Saruman: 25\n",
      "Gandalf wins the round! 1 round(s) in a row.\n",
      "Noone won 3 rounds in a row yet.\n",
      "> Round 3 - Gandalf: 10  Saruman: 50\n",
      "Saruman wins the round! 1 round(s) in a row.\n",
      "Noone won 3 rounds in a row yet.\n",
      "> Round 4 - Gandalf: 50  Saruman: 25\n",
      "Gandalf wins the round! 1 round(s) in a row.\n",
      "Noone won 3 rounds in a row yet.\n",
      "> Round 5 - Gandalf: 10  Saruman: 40\n",
      "Saruman wins the round! 1 round(s) in a row.\n",
      "Noone won 3 rounds in a row yet.\n",
      "> Round 6 - Gandalf: 40  Saruman: 10\n",
      "Gandalf wins the round! 1 round(s) in a row.\n",
      "Noone won 3 rounds in a row yet.\n",
      "> Round 7 - Gandalf: 50  Saruman: 45\n",
      "Gandalf wins the round! 2 round(s) in a row.\n",
      "Noone won 3 rounds in a row yet.\n",
      "> Round 8 - Gandalf: 50  Saruman: 10\n",
      "Gandalf wins the round! 3 round(s) in a row.\n",
      "GANDALF WINS THE BATTLE!\n"
     ]
    }
   ],
   "source": [
    "#Definimos el número de hechizos que lanzará cada uno: \n",
    "print(\"Gandalf will cast\", len(gandalf_power), \"spells\")\n",
    "print(\"Saruman will cast\", len(saruman_power), \"spells\")\n",
    "\n",
    "# Usamos la función assert para comprobar que las dos listas son del mismo tamaño\n",
    "assert len(gandalf_power) == len(saruman_power)\n",
    "\n",
    "print(\"BATTLE STARTS\")\n",
    "\n",
    "# Guardamos el último ganador, para saber si llevarán 3 victorias seguidas\n",
    "last_winner = None\n",
    "\n",
    "#A continuación creamos un for loop \n",
    "for battle_round in range(len(gandalf_power)):\n",
    "    g_spell_power = gandalf_power[battle_round]\n",
    "    s_spell_power = saruman_power[battle_round]\n",
    "    print(\"> Round\", battle_round,\"- Gandalf:\",g_spell_power,\" Saruman:\",s_spell_power)\n",
    "\n",
    "# después de la BATALLA 1 \n",
    "  \n",
    "    # Nothing happens if it's a tie\n",
    "    if g_spell_power == s_spell_power:\n",
    "        print(\"It's a tie!\")\n",
    "    if g_spell_power > s_spell_power:\n",
    "        # If the wizard didn't win last round, this is his first win in a row\n",
    "        if last_winner != 'Gandalf':\n",
    "            last_winner = 'Gandalf'\n",
    "            gandalf_wins = 1\n",
    "        else:\n",
    "            # The wizard won last round as well\n",
    "            gandalf_wins = gandalf_wins + 1\n",
    "        print(f\"Gandalf wins the round! {gandalf_wins} round(s) in a row.\")\n",
    "    if g_spell_power < s_spell_power:\n",
    "        if last_winner != 'Saruman':\n",
    "            last_winner = 'Saruman'\n",
    "            saruman_wins = 1\n",
    "        else:\n",
    "            saruman_wins = saruman_wins + 1\n",
    "        print(f\"Saruman wins the round! {saruman_wins} round(s) in a row.\")\n",
    "    # Wizards win the spell clash if they win 3 rounds in a row\n",
    "    if gandalf_wins == 3:\n",
    "        print(\"GANDALF WINS THE BATTLE!\")\n",
    "        # Someone won, break out of the loop\n",
    "        break\n",
    "    if saruman_wins == 3:\n",
    "        print(\"SARUMAN WINS THE BATTLE!\")\n",
    "        break\n",
    "    # If the loop finishes without breaking and this code is executed, noone reached 3 wins\n",
    "    print(\"Noone won 3 rounds in a row yet.\")"
   ]
  },
  {
   "cell_type": "markdown",
   "metadata": {},
   "source": [
    "#### 5. Find the average spell power of Gandalf and Saruman. "
   ]
  },
  {
   "cell_type": "code",
   "execution_count": 58,
   "metadata": {},
   "outputs": [
    {
     "name": "stdout",
     "output_type": "stream",
     "text": [
      "Gandalf average spell power: 39.0\n",
      "Saruman average spell power: 30.5\n"
     ]
    }
   ],
   "source": [
    "print(\"Gandalf average spell power:\",sum(gandalf_power)/len(gandalf_power))\n",
    "print(\"Saruman average spell power:\",sum(saruman_power)/len(saruman_power))"
   ]
  },
  {
   "cell_type": "markdown",
   "metadata": {},
   "source": [
    "#### 6. Find the standard deviation of the spell power of Gandalf and Saruman. "
   ]
  },
  {
   "cell_type": "code",
   "execution_count": 84,
   "metadata": {},
   "outputs": [
    {
     "name": "stdout",
     "output_type": "stream",
     "text": [
      "Variance Gandalf: 774.4\n",
      "Variance Saruman: 1716.1\n",
      "As the square root of the variance = the standard deviation,\n",
      "Gandalf standard deviation 27.828043409481744\n",
      "Saruman standard deviation 41.42583734972263\n"
     ]
    }
   ],
   "source": [
    "mean_g = sum(gandalf_power)/len(gandalf_power)\n",
    "mean_s = sum(saruman_power)/len(saruman_power)\n",
    "\n",
    "\n",
    "numerator_g = (abs(gandalf_power[0] - mean_g)+abs(gandalf_power[1] - mean_g)+abs(gandalf_power[2] - mean_g)+abs(gandalf_power[2] - mean_g)+abs(gandalf_power[4] - mean_g)+abs(gandalf_power[5] - mean_g)+abs(gandalf_power[6] - mean_g)+abs(gandalf_power[7] - mean_g)+abs(gandalf_power[8] - mean_g)+abs(gandalf_power[9] - mean_g))**2\n",
    "denominator_g = len(gandalf_power)\n",
    "variance_g = numerator_g / denominator_g\n",
    "\n",
    "numerator_s = (abs(saruman_power[0] - mean_s)+abs(saruman_power[1] - mean_s)+abs(saruman_power[2] - mean_s)+abs(saruman_power[2] - mean_s)+abs(saruman_power[4] - mean_s)+abs(saruman_power[5] - mean_s)+abs(saruman_power[6] - mean_s)+abs(saruman_power[7] - mean_s)+abs(saruman_power[8] - mean_s)+abs(saruman_power[9] - mean_s))**2\n",
    "denominator_s = len(saruman_power)\n",
    "variance_s = numerator_s / denominator_s\n",
    "\n",
    "print(\"Variance Gandalf:\",variance_g)\n",
    "print(\"Variance Saruman:\",variance_s)\n",
    "print(\"As the square root of the variance = the standard deviation,\")\n",
    "\n",
    "\n",
    "g = 1.0\n",
    "a = float(variance_g)\n",
    "for k in range(1, 10):\n",
    "    g = (g + a/g)/2\n",
    "#print('La raiz de la varianza:', a, ' después de ', k, ' iteraciones es de ', x)\n",
    "print(\"Gandalf standard deviation\",g)\n",
    "\n",
    "s = 1.0\n",
    "a = float(variance_s)\n",
    "for k in range(1, 10):\n",
    "    s = (s + a/s)/2\n",
    "#print('La raiz de la varianza:', a, ' después de ', k, ' iteraciones es de ', x)\n",
    "print(\"Saruman standard deviation\",s)"
   ]
  },
  {
   "cell_type": "code",
   "execution_count": null,
   "metadata": {},
   "outputs": [],
   "source": []
  }
 ],
 "metadata": {
  "kernelspec": {
   "display_name": "Python 3",
   "language": "python",
   "name": "python3"
  },
  "language_info": {
   "codemirror_mode": {
    "name": "ipython",
    "version": 3
   },
   "file_extension": ".py",
   "mimetype": "text/x-python",
   "name": "python",
   "nbconvert_exporter": "python",
   "pygments_lexer": "ipython3",
   "version": "3.9.2"
  }
 },
 "nbformat": 4,
 "nbformat_minor": 2
}
